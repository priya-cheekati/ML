{
 "cells": [
  {
   "cell_type": "code",
   "execution_count": 2,
   "metadata": {},
   "outputs": [],
   "source": [
    "from sklearn.datasets import load_digits"
   ]
  },
  {
   "cell_type": "code",
   "execution_count": 3,
   "metadata": {},
   "outputs": [],
   "source": [
    "X, y = load_digits(return_X_y=True)"
   ]
  },
  {
   "cell_type": "code",
   "execution_count": 4,
   "metadata": {},
   "outputs": [],
   "source": [
    "from sklearn.model_selection import train_test_split\n",
    "\n",
    "X_train, X_test, y_train, y_test= train_test_split(X, y, test_size=0.4, random_state=42)"
   ]
  },
  {
   "cell_type": "code",
   "execution_count": 5,
   "metadata": {},
   "outputs": [],
   "source": [
    "y_train = ((y_train == 5) | (y_train == 8))\n",
    "y_test = ((y_test == 5)| (y_test==8))"
   ]
  },
  {
   "cell_type": "code",
   "execution_count": 6,
   "metadata": {},
   "outputs": [],
   "source": [
    "from sklearn.pipeline import Pipeline\n",
    "from sklearn.impute import SimpleImputer\n",
    "from sklearn.preprocessing import StandardScaler"
   ]
  },
  {
   "cell_type": "code",
   "execution_count": 7,
   "metadata": {},
   "outputs": [],
   "source": [
    "pipeline = Pipeline([\n",
    "        ('imputer', SimpleImputer(strategy=\"median\")),\n",
    "        ('std_scaler', StandardScaler()),\n",
    "    ])\n",
    "\n",
    "X_train_tr = pipeline.fit_transform(X_train)\n",
    "X_test_tr = pipeline.transform(X_test)"
   ]
  },
  {
   "cell_type": "code",
   "execution_count": 8,
   "metadata": {},
   "outputs": [],
   "source": [
    "from sklearn.svm import SVC\n",
    "from sklearn.model_selection import GridSearchCV\n",
    "from sklearn.model_selection import cross_val_score\n",
    "from sklearn.metrics import roc_auc_score\n",
    "from sklearn.model_selection import cross_val_predict"
   ]
  },
  {
   "cell_type": "code",
   "execution_count": 9,
   "metadata": {},
   "outputs": [],
   "source": [
    "param_grid = [\n",
    "      {'C': [0.01,0.1,1,10,100], 'kernel': ['linear']},\n",
    "      {'C': [0.01,0.1,1,10,100], 'gamma': ['auto'], 'kernel': ['rbf']},\n",
    "      {'C': [0.01,0.1,1,10,100], 'gamma':['auto'], 'kernel':['poly'], 'degree':[2,4,6]},\n",
    "     ]"
   ]
  },
  {
   "cell_type": "code",
   "execution_count": 54,
   "metadata": {},
   "outputs": [
    {
     "data": {
      "text/plain": [
       "GridSearchCV(cv=3, error_score='raise-deprecating',\n",
       "             estimator=SVC(C=1.0, cache_size=200, class_weight=None, coef0=0.0,\n",
       "                           decision_function_shape='ovr', degree=3,\n",
       "                           gamma='auto', kernel='rbf', max_iter=-1,\n",
       "                           probability=False, random_state=None, shrinking=True,\n",
       "                           tol=0.001, verbose=False),\n",
       "             iid='warn', n_jobs=None,\n",
       "             param_grid=[{'C': [0.01, 0.1, 1, 10, 100], 'kernel': ['linear']},\n",
       "                         {'C': [0.01, 0.1, 1, 10, 100], 'gamma': ['auto'],\n",
       "                          'kernel': ['rbf']},\n",
       "                         {'C': [0.01, 0.1, 1, 10, 100], 'degree': [2, 4, 6],\n",
       "                          'gamma': ['auto'], 'kernel': ['poly']}],\n",
       "             pre_dispatch='2*n_jobs', refit=True, return_train_score=False,\n",
       "             scoring='roc_auc', verbose=0)"
      ]
     },
     "execution_count": 54,
     "metadata": {},
     "output_type": "execute_result"
    }
   ],
   "source": [
    "my_svc = SVC(gamma='auto')\n",
    "clf = GridSearchCV(my_svc, param_grid, cv=3, scoring='roc_auc')\n",
    "clf.fit(X_train_tr, y_train)"
   ]
  },
  {
   "cell_type": "code",
   "execution_count": 55,
   "metadata": {},
   "outputs": [],
   "source": [
    "y_scores = cross_val_predict(my_svc, X_train_tr, y_train, cv=3)"
   ]
  },
  {
   "cell_type": "code",
   "execution_count": 45,
   "metadata": {},
   "outputs": [],
   "source": [
    "from sklearn.metrics import auc\n",
    "from sklearn.metrics import roc_curve"
   ]
  },
  {
   "cell_type": "code",
   "execution_count": 46,
   "metadata": {},
   "outputs": [
    {
     "name": "stdout",
     "output_type": "stream",
     "text": [
      "AUC Score for the train set: 0.9262654730327146\n"
     ]
    }
   ],
   "source": [
    "fpr, tpr, thresholds = roc_curve(y_train,y_scores)\n",
    "print('AUC Score for the train set:', auc(fpr,tpr))"
   ]
  },
  {
   "cell_type": "code",
   "execution_count": 47,
   "metadata": {},
   "outputs": [
    {
     "name": "stdout",
     "output_type": "stream",
     "text": [
      "mean auc_score: 0.9385359400872052 hyperparameters:  {'C': 0.01, 'kernel': 'linear'}\n",
      "mean auc_score: 0.9468005395658915 hyperparameters:  {'C': 0.1, 'kernel': 'linear'}\n",
      "mean auc_score: 0.9433358128780825 hyperparameters:  {'C': 1, 'kernel': 'linear'}\n",
      "mean auc_score: 0.9415047114661593 hyperparameters:  {'C': 10, 'kernel': 'linear'}\n",
      "mean auc_score: 0.9423016493343574 hyperparameters:  {'C': 100, 'kernel': 'linear'}\n",
      "mean auc_score: 0.9755884912036429 hyperparameters:  {'C': 0.01, 'gamma': 'auto', 'kernel': 'rbf'}\n",
      "mean auc_score: 0.9756881564518561 hyperparameters:  {'C': 0.1, 'gamma': 'auto', 'kernel': 'rbf'}\n",
      "mean auc_score: 0.9902982314832514 hyperparameters:  {'C': 1, 'gamma': 'auto', 'kernel': 'rbf'}\n",
      "mean auc_score: 0.990955562504992 hyperparameters:  {'C': 10, 'gamma': 'auto', 'kernel': 'rbf'}\n",
      "mean auc_score: 0.990955562504992 hyperparameters:  {'C': 100, 'gamma': 'auto', 'kernel': 'rbf'}\n",
      "mean auc_score: 0.9680310851730244 hyperparameters:  {'C': 0.01, 'degree': 2, 'gamma': 'auto', 'kernel': 'poly'}\n",
      "mean auc_score: 0.9650150739631509 hyperparameters:  {'C': 0.01, 'degree': 4, 'gamma': 'auto', 'kernel': 'poly'}\n",
      "mean auc_score: 0.9573722812593173 hyperparameters:  {'C': 0.01, 'degree': 6, 'gamma': 'auto', 'kernel': 'poly'}\n",
      "mean auc_score: 0.971665889822118 hyperparameters:  {'C': 0.1, 'degree': 2, 'gamma': 'auto', 'kernel': 'poly'}\n",
      "mean auc_score: 0.9715958612265562 hyperparameters:  {'C': 0.1, 'degree': 4, 'gamma': 'auto', 'kernel': 'poly'}\n",
      "mean auc_score: 0.962392286496561 hyperparameters:  {'C': 0.1, 'degree': 6, 'gamma': 'auto', 'kernel': 'poly'}\n",
      "mean auc_score: 0.9937049630498823 hyperparameters:  {'C': 1, 'degree': 2, 'gamma': 'auto', 'kernel': 'poly'}\n",
      "mean auc_score: 0.9850592461521691 hyperparameters:  {'C': 1, 'degree': 4, 'gamma': 'auto', 'kernel': 'poly'}\n",
      "mean auc_score: 0.9692756523937872 hyperparameters:  {'C': 1, 'degree': 6, 'gamma': 'auto', 'kernel': 'poly'}\n",
      "mean auc_score: 0.9959725544066027 hyperparameters:  {'C': 10, 'degree': 2, 'gamma': 'auto', 'kernel': 'poly'}\n",
      "mean auc_score: 0.9963417708055593 hyperparameters:  {'C': 10, 'degree': 4, 'gamma': 'auto', 'kernel': 'poly'}\n",
      "mean auc_score: 0.9872902867410717 hyperparameters:  {'C': 10, 'degree': 6, 'gamma': 'auto', 'kernel': 'poly'}\n",
      "mean auc_score: 0.9957904429709344 hyperparameters:  {'C': 100, 'degree': 2, 'gamma': 'auto', 'kernel': 'poly'}\n",
      "mean auc_score: 0.9970332816629057 hyperparameters:  {'C': 100, 'degree': 4, 'gamma': 'auto', 'kernel': 'poly'}\n",
      "mean auc_score: 0.9940369266731596 hyperparameters:  {'C': 100, 'degree': 6, 'gamma': 'auto', 'kernel': 'poly'}\n"
     ]
    }
   ],
   "source": [
    "search_results = clf.cv_results_\n",
    "params = search_results['params']\n",
    "mean_scores = search_results['mean_test_score']\n",
    "for i in range(len(params)):\n",
    "    mean_score = mean_scores[i]\n",
    "    param = params[i]\n",
    "    print('mean auc_score:', (mean_score), 'hyperparameters: ', param)\n"
   ]
  },
  {
   "cell_type": "code",
   "execution_count": 48,
   "metadata": {},
   "outputs": [
    {
     "name": "stdout",
     "output_type": "stream",
     "text": [
      "best hyperparams in search :  {'C': 100, 'degree': 4, 'gamma': 'auto', 'kernel': 'poly'}\n"
     ]
    }
   ],
   "source": [
    "best_params = clf.best_params_\n",
    "print('best hyperparams in search : ', best_params)"
   ]
  },
  {
   "cell_type": "code",
   "execution_count": 49,
   "metadata": {},
   "outputs": [
    {
     "name": "stdout",
     "output_type": "stream",
     "text": [
      "best estimator:  SVC(C=100, cache_size=200, class_weight=None, coef0=0.0,\n",
      "    decision_function_shape='ovr', degree=4, gamma='auto', kernel='poly',\n",
      "    max_iter=-1, probability=False, random_state=None, shrinking=True,\n",
      "    tol=0.001, verbose=False)\n"
     ]
    }
   ],
   "source": [
    "print('best estimator: ', clf.best_estimator_)"
   ]
  },
  {
   "cell_type": "code",
   "execution_count": 50,
   "metadata": {},
   "outputs": [],
   "source": [
    "final_model = clf.best_estimator_"
   ]
  },
  {
   "cell_type": "code",
   "execution_count": 51,
   "metadata": {},
   "outputs": [
    {
     "data": {
      "text/plain": [
       "SVC(C=100, cache_size=200, class_weight=None, coef0=0.0,\n",
       "    decision_function_shape='ovr', degree=4, gamma='auto', kernel='poly',\n",
       "    max_iter=-1, probability=False, random_state=None, shrinking=True,\n",
       "    tol=0.001, verbose=False)"
      ]
     },
     "execution_count": 51,
     "metadata": {},
     "output_type": "execute_result"
    }
   ],
   "source": [
    "final_model.fit(X_train_tr, y_train)"
   ]
  },
  {
   "cell_type": "code",
   "execution_count": 52,
   "metadata": {},
   "outputs": [],
   "source": [
    "y_predicted = final_model.predict(X_test_tr)"
   ]
  },
  {
   "cell_type": "code",
   "execution_count": 53,
   "metadata": {},
   "outputs": [
    {
     "name": "stdout",
     "output_type": "stream",
     "text": [
      "AUC score for the test test: 0.9796054811378804\n"
     ]
    }
   ],
   "source": [
    "fpr, tpr, thresholds = roc_curve(y_test,y_predicted)\n",
    "print('AUC score for the test test:',auc(fpr,tpr))"
   ]
  }
 ],
 "metadata": {
  "kernelspec": {
   "display_name": "Python 3",
   "language": "python",
   "name": "python3"
  },
  "language_info": {
   "codemirror_mode": {
    "name": "ipython",
    "version": 3
   },
   "file_extension": ".py",
   "mimetype": "text/x-python",
   "name": "python",
   "nbconvert_exporter": "python",
   "pygments_lexer": "ipython3",
   "version": "3.7.3"
  }
 },
 "nbformat": 4,
 "nbformat_minor": 2
}
